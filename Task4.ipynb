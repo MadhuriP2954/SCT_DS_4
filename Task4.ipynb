{
  "nbformat": 4,
  "nbformat_minor": 0,
  "metadata": {
    "colab": {
      "provenance": []
    },
    "kernelspec": {
      "name": "python3",
      "display_name": "Python 3"
    },
    "language_info": {
      "name": "python"
    }
  },
  "cells": [
    {
      "cell_type": "code",
      "execution_count": 2,
      "metadata": {
        "colab": {
          "base_uri": "https://localhost:8080/"
        },
        "id": "IHuJeavjWmq7",
        "outputId": "f0397681-aba3-4cc8-80c4-75d1f941ddf0"
      },
      "outputs": [
        {
          "output_type": "stream",
          "name": "stdout",
          "text": [
            "   CRASH DATE CRASH TIME   BOROUGH  ZIP CODE   LATITUDE  LONGITUDE  \\\n",
            "0  09/11/2021       2:39       NaN       NaN        NaN        NaN   \n",
            "1  03/26/2022      11:45       NaN       NaN        NaN        NaN   \n",
            "2  06/29/2022       6:55       NaN       NaN        NaN        NaN   \n",
            "3  09/11/2021       9:35  BROOKLYN   11208.0  40.667202 -73.866500   \n",
            "4  12/14/2021       8:13  BROOKLYN   11233.0  40.683304 -73.917274   \n",
            "\n",
            "                  LOCATION           ON STREET NAME CROSS STREET NAME  \\\n",
            "0                      NaN    WHITESTONE EXPRESSWAY         20 AVENUE   \n",
            "1                      NaN  QUEENSBORO BRIDGE UPPER               NaN   \n",
            "2                      NaN       THROGS NECK BRIDGE               NaN   \n",
            "3    (40.667202, -73.8665)                      NaN               NaN   \n",
            "4  (40.683304, -73.917274)          SARATOGA AVENUE    DECATUR STREET   \n",
            "\n",
            "           OFF STREET NAME  ...  CONTRIBUTING FACTOR VEHICLE 2  \\\n",
            "0                      NaN  ...                    Unspecified   \n",
            "1                      NaN  ...                            NaN   \n",
            "2                      NaN  ...                    Unspecified   \n",
            "3  1211      LORING AVENUE  ...                            NaN   \n",
            "4                      NaN  ...                            NaN   \n",
            "\n",
            "   CONTRIBUTING FACTOR VEHICLE 3  CONTRIBUTING FACTOR VEHICLE 4  \\\n",
            "0                            NaN                            NaN   \n",
            "1                            NaN                            NaN   \n",
            "2                            NaN                            NaN   \n",
            "3                            NaN                            NaN   \n",
            "4                            NaN                            NaN   \n",
            "\n",
            "   CONTRIBUTING FACTOR VEHICLE 5  COLLISION_ID  VEHICLE TYPE CODE 1  \\\n",
            "0                            NaN       4455765                Sedan   \n",
            "1                            NaN       4513547                Sedan   \n",
            "2                            NaN       4541903                Sedan   \n",
            "3                            NaN       4456314                Sedan   \n",
            "4                            NaN       4486609                  NaN   \n",
            "\n",
            "   VEHICLE TYPE CODE 2  VEHICLE TYPE CODE 3 VEHICLE TYPE CODE 4  \\\n",
            "0                Sedan                  NaN                 NaN   \n",
            "1                  NaN                  NaN                 NaN   \n",
            "2        Pick-up Truck                  NaN                 NaN   \n",
            "3                  NaN                  NaN                 NaN   \n",
            "4                  NaN                  NaN                 NaN   \n",
            "\n",
            "  VEHICLE TYPE CODE 5  \n",
            "0                 NaN  \n",
            "1                 NaN  \n",
            "2                 NaN  \n",
            "3                 NaN  \n",
            "4                 NaN  \n",
            "\n",
            "[5 rows x 29 columns]\n",
            "Index(['CRASH DATE', 'CRASH TIME', 'BOROUGH', 'ZIP CODE', 'LATITUDE',\n",
            "       'LONGITUDE', 'LOCATION', 'ON STREET NAME', 'CROSS STREET NAME',\n",
            "       'OFF STREET NAME', 'NUMBER OF PERSONS INJURED',\n",
            "       'NUMBER OF PERSONS KILLED', 'NUMBER OF PEDESTRIANS INJURED',\n",
            "       'NUMBER OF PEDESTRIANS KILLED', 'NUMBER OF CYCLIST INJURED',\n",
            "       'NUMBER OF CYCLIST KILLED', 'NUMBER OF MOTORIST INJURED',\n",
            "       'NUMBER OF MOTORIST KILLED', 'CONTRIBUTING FACTOR VEHICLE 1',\n",
            "       'CONTRIBUTING FACTOR VEHICLE 2', 'CONTRIBUTING FACTOR VEHICLE 3',\n",
            "       'CONTRIBUTING FACTOR VEHICLE 4', 'CONTRIBUTING FACTOR VEHICLE 5',\n",
            "       'COLLISION_ID', 'VEHICLE TYPE CODE 1', 'VEHICLE TYPE CODE 2',\n",
            "       'VEHICLE TYPE CODE 3', 'VEHICLE TYPE CODE 4', 'VEHICLE TYPE CODE 5'],\n",
            "      dtype='object')\n"
          ]
        }
      ],
      "source": [
        "\n",
        "import pandas as pd\n",
        "\n",
        "# Replace with your actual file path if you downloaded the file manually\n",
        "data = pd.read_csv('/content/Motor_Vehicle_Collisions_-_Crashes.csv')\n",
        "\n",
        "# Display the first few rows and column names\n",
        "print(data.head())\n",
        "print(data.columns)"
      ]
    },
    {
      "cell_type": "code",
      "source": [
        "\n",
        "# Check for missing values\n",
        "print(data.isnull().sum())\n",
        "\n",
        "# Drop rows with missing critical columns or fill them if appropriate\n",
        "data = data.dropna(subset=['LATITUDE', 'LONGITUDE', 'LOCATION'])"
      ],
      "metadata": {
        "colab": {
          "base_uri": "https://localhost:8080/"
        },
        "id": "uzMQ-8v_X5oG",
        "outputId": "51674656-5d46-4763-f816-dbe658e4cd78"
      },
      "execution_count": 3,
      "outputs": [
        {
          "output_type": "stream",
          "name": "stdout",
          "text": [
            "CRASH DATE                           0\n",
            "CRASH TIME                           0\n",
            "BOROUGH                           7606\n",
            "ZIP CODE                          7609\n",
            "LATITUDE                          1761\n",
            "LONGITUDE                         1761\n",
            "LOCATION                          1761\n",
            "ON STREET NAME                    6023\n",
            "CROSS STREET NAME                11889\n",
            "OFF STREET NAME                  16179\n",
            "NUMBER OF PERSONS INJURED            0\n",
            "NUMBER OF PERSONS KILLED             0\n",
            "NUMBER OF PEDESTRIANS INJURED        0\n",
            "NUMBER OF PEDESTRIANS KILLED         0\n",
            "NUMBER OF CYCLIST INJURED            0\n",
            "NUMBER OF CYCLIST KILLED             0\n",
            "NUMBER OF MOTORIST INJURED           0\n",
            "NUMBER OF MOTORIST KILLED            0\n",
            "CONTRIBUTING FACTOR VEHICLE 1      115\n",
            "CONTRIBUTING FACTOR VEHICLE 2     4913\n",
            "CONTRIBUTING FACTOR VEHICLE 3    19848\n",
            "CONTRIBUTING FACTOR VEHICLE 4    21581\n",
            "CONTRIBUTING FACTOR VEHICLE 5    22032\n",
            "COLLISION_ID                         0\n",
            "VEHICLE TYPE CODE 1                262\n",
            "VEHICLE TYPE CODE 2               7280\n",
            "VEHICLE TYPE CODE 3              20006\n",
            "VEHICLE TYPE CODE 4              21619\n",
            "VEHICLE TYPE CODE 5              22039\n",
            "dtype: int64\n"
          ]
        }
      ]
    },
    {
      "cell_type": "code",
      "source": [
        "# Verify the presence of these columns\n",
        "print(data.columns)\n",
        "\n",
        "# Example analysis if columns are present\n",
        "if 'ROAD_CONDITION' in data.columns:\n",
        "    road_condition_stats = data['ROAD_CONDITION'].value_counts()\n",
        "    print(road_condition_stats)\n",
        "\n",
        "if 'WEATHER' in data.columns:\n",
        "    weather_condition_stats = data['WEATHER'].value_counts()\n",
        "    print(weather_condition_stats)"
      ],
      "metadata": {
        "colab": {
          "base_uri": "https://localhost:8080/"
        },
        "id": "vacTO5rhYhdD",
        "outputId": "73a102a2-0852-4880-d840-12366a054b29"
      },
      "execution_count": 4,
      "outputs": [
        {
          "output_type": "stream",
          "name": "stdout",
          "text": [
            "Index(['CRASH DATE', 'CRASH TIME', 'BOROUGH', 'ZIP CODE', 'LATITUDE',\n",
            "       'LONGITUDE', 'LOCATION', 'ON STREET NAME', 'CROSS STREET NAME',\n",
            "       'OFF STREET NAME', 'NUMBER OF PERSONS INJURED',\n",
            "       'NUMBER OF PERSONS KILLED', 'NUMBER OF PEDESTRIANS INJURED',\n",
            "       'NUMBER OF PEDESTRIANS KILLED', 'NUMBER OF CYCLIST INJURED',\n",
            "       'NUMBER OF CYCLIST KILLED', 'NUMBER OF MOTORIST INJURED',\n",
            "       'NUMBER OF MOTORIST KILLED', 'CONTRIBUTING FACTOR VEHICLE 1',\n",
            "       'CONTRIBUTING FACTOR VEHICLE 2', 'CONTRIBUTING FACTOR VEHICLE 3',\n",
            "       'CONTRIBUTING FACTOR VEHICLE 4', 'CONTRIBUTING FACTOR VEHICLE 5',\n",
            "       'COLLISION_ID', 'VEHICLE TYPE CODE 1', 'VEHICLE TYPE CODE 2',\n",
            "       'VEHICLE TYPE CODE 3', 'VEHICLE TYPE CODE 4', 'VEHICLE TYPE CODE 5'],\n",
            "      dtype='object')\n"
          ]
        }
      ]
    },
    {
      "cell_type": "markdown",
      "source": [
        "Missing Values"
      ],
      "metadata": {
        "id": "ddHDI7QTYp2I"
      }
    },
    {
      "cell_type": "code",
      "source": [
        "\n",
        "import folium\n",
        "\n",
        "# Initialize a map centered around the mean latitude and longitude\n",
        "m = folium.Map(location=[data['LATITUDE'].mean(), data['LONGITUDE'].mean()], zoom_start=12)\n",
        "\n",
        "# Add markers for each accident location\n",
        "for _, row in data.iterrows():\n",
        "    folium.CircleMarker(\n",
        "        location=[row['LATITUDE'], row['LONGITUDE']],\n",
        "        radius=3,\n",
        "        color='red',\n",
        "        fill=True,\n",
        "        fill_color='red',\n",
        "        fill_opacity=0.6\n",
        "    ).add_to(m)\n",
        "\n",
        "# Save the map to an HTML file\n",
        "m.save('accident_hotspots.html')"
      ],
      "metadata": {
        "id": "djPFP5fNYs7i"
      },
      "execution_count": 5,
      "outputs": []
    },
    {
      "cell_type": "code",
      "source": [
        "# Ensure time column is in datetime format\n",
        "data['CRASH TIME'] = pd.to_datetime(data['CRASH TIME'], errors='coerce')\n",
        "\n",
        "# Extract the hour of the day\n",
        "data['CRASH HOUR'] = data['CRASH TIME'].dt.hour\n",
        "\n",
        "# Count accidents by hour\n",
        "time_of_day_stats = data['CRASH HOUR'].value_counts().sort_index()\n",
        "print(time_of_day_stats)"
      ],
      "metadata": {
        "colab": {
          "base_uri": "https://localhost:8080/"
        },
        "id": "T3HSBj22YxhO",
        "outputId": "0d1e103b-a401-49bf-d9a4-31de765aa121"
      },
      "execution_count": 6,
      "outputs": [
        {
          "output_type": "stream",
          "name": "stdout",
          "text": [
            "CRASH HOUR\n",
            "0      995\n",
            "1      508\n",
            "2      410\n",
            "3      304\n",
            "4      364\n",
            "5      357\n",
            "6      497\n",
            "7      682\n",
            "8     1000\n",
            "9      904\n",
            "10     844\n",
            "11     962\n",
            "12    1026\n",
            "13    1016\n",
            "14    1229\n",
            "15    1325\n",
            "16    1351\n",
            "17    1353\n",
            "18    1125\n",
            "19     996\n",
            "20     897\n",
            "21     784\n",
            "22     816\n",
            "23     696\n",
            "Name: count, dtype: int64\n"
          ]
        },
        {
          "output_type": "stream",
          "name": "stderr",
          "text": [
            "<ipython-input-6-5a77cdab41be>:2: UserWarning: Could not infer format, so each element will be parsed individually, falling back to `dateutil`. To ensure parsing is consistent and as-expected, please specify a format.\n",
            "  data['CRASH TIME'] = pd.to_datetime(data['CRASH TIME'], errors='coerce')\n"
          ]
        }
      ]
    },
    {
      "cell_type": "code",
      "source": [
        "\n",
        "import seaborn as sns\n",
        "import matplotlib.pyplot as plt\n",
        "\n",
        "# Plot accidents by hour of the day\n",
        "plt.figure(figsize=(10, 6))\n",
        "sns.countplot(x='CRASH HOUR', data=data, palette='viridis')\n",
        "plt.title('Accidents by Hour of the Day')\n",
        "plt.xlabel('Hour of the Day')\n",
        "plt.ylabel('Number of Accidents')\n",
        "plt.show()\n"
      ],
      "metadata": {
        "colab": {
          "base_uri": "https://localhost:8080/",
          "height": 651
        },
        "id": "aXDPINlnZAtK",
        "outputId": "592aa2ad-38af-4161-ab5b-48d71828866d"
      },
      "execution_count": 7,
      "outputs": [
        {
          "output_type": "stream",
          "name": "stderr",
          "text": [
            "<ipython-input-7-6760c03d090e>:6: FutureWarning: \n",
            "\n",
            "Passing `palette` without assigning `hue` is deprecated and will be removed in v0.14.0. Assign the `x` variable to `hue` and set `legend=False` for the same effect.\n",
            "\n",
            "  sns.countplot(x='CRASH HOUR', data=data, palette='viridis')\n"
          ]
        },
        {
          "output_type": "display_data",
          "data": {
            "text/plain": [
              "<Figure size 1000x600 with 1 Axes>"
            ],
            "image/png": "[encoded data removed]"
          },
          "metadata": {}
        }
      ]
    }
  ]
}